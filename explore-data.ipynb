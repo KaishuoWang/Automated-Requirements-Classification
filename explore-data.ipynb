{
 "cells": [
  {
   "cell_type": "code",
   "execution_count": 2,
   "metadata": {},
   "outputs": [],
   "source": [
    "import pandas as pd\n",
    "import numpy as np\n",
    "from datasets import Dataset\n",
    "\n",
    "DATA_PATH = 'data/'"
   ]
  },
  {
   "cell_type": "markdown",
   "metadata": {},
   "source": [
    "## PURE Dataset"
   ]
  },
  {
   "cell_type": "code",
   "execution_count": 3,
   "metadata": {},
   "outputs": [
    {
     "name": "stdout",
     "output_type": "stream",
     "text": [
      "label\n",
      "1    4145\n",
      "0    3600\n",
      "Name: count, dtype: int64\n"
     ]
    },
    {
     "data": {
      "text/html": [
       "<div>\n",
       "<style scoped>\n",
       "    .dataframe tbody tr th:only-of-type {\n",
       "        vertical-align: middle;\n",
       "    }\n",
       "\n",
       "    .dataframe tbody tr th {\n",
       "        vertical-align: top;\n",
       "    }\n",
       "\n",
       "    .dataframe thead th {\n",
       "        text-align: right;\n",
       "    }\n",
       "</style>\n",
       "<table border=\"1\" class=\"dataframe\">\n",
       "  <thead>\n",
       "    <tr style=\"text-align: right;\">\n",
       "      <th></th>\n",
       "      <th>text</th>\n",
       "      <th>label</th>\n",
       "    </tr>\n",
       "  </thead>\n",
       "  <tbody>\n",
       "    <tr>\n",
       "      <th>0</th>\n",
       "      <td>NPAC SMS shall set a Subscription Version stat...</td>\n",
       "      <td>1</td>\n",
       "    </tr>\n",
       "    <tr>\n",
       "      <th>1</th>\n",
       "      <td>To provide a Microsoft Windows application tha...</td>\n",
       "      <td>0</td>\n",
       "    </tr>\n",
       "    <tr>\n",
       "      <th>2</th>\n",
       "      <td>The Subscriptions file given in the example wo...</td>\n",
       "      <td>0</td>\n",
       "    </tr>\n",
       "    <tr>\n",
       "      <th>3</th>\n",
       "      <td>NPAC SMS shall allow the NPAC SMS Administrato...</td>\n",
       "      <td>1</td>\n",
       "    </tr>\n",
       "    <tr>\n",
       "      <th>4</th>\n",
       "      <td>Parameters such as deadline and cost are cruci...</td>\n",
       "      <td>1</td>\n",
       "    </tr>\n",
       "    <tr>\n",
       "      <th>5</th>\n",
       "      <td>As such, it aims for a high level of readabili...</td>\n",
       "      <td>0</td>\n",
       "    </tr>\n",
       "    <tr>\n",
       "      <th>6</th>\n",
       "      <td>Contaminated Number - An unavailable number (e...</td>\n",
       "      <td>0</td>\n",
       "    </tr>\n",
       "    <tr>\n",
       "      <th>7</th>\n",
       "      <td>The Run/Parse Target menu item shall provide a...</td>\n",
       "      <td>1</td>\n",
       "    </tr>\n",
       "    <tr>\n",
       "      <th>8</th>\n",
       "      <td>The Center shall support the following informa...</td>\n",
       "      <td>1</td>\n",
       "    </tr>\n",
       "    <tr>\n",
       "      <th>9</th>\n",
       "      <td>After a few moves, the combination of tiles in...</td>\n",
       "      <td>0</td>\n",
       "    </tr>\n",
       "  </tbody>\n",
       "</table>\n",
       "</div>"
      ],
      "text/plain": [
       "                                                text  label\n",
       "0  NPAC SMS shall set a Subscription Version stat...      1\n",
       "1  To provide a Microsoft Windows application tha...      0\n",
       "2  The Subscriptions file given in the example wo...      0\n",
       "3  NPAC SMS shall allow the NPAC SMS Administrato...      1\n",
       "4  Parameters such as deadline and cost are cruci...      1\n",
       "5  As such, it aims for a high level of readabili...      0\n",
       "6  Contaminated Number - An unavailable number (e...      0\n",
       "7  The Run/Parse Target menu item shall provide a...      1\n",
       "8  The Center shall support the following informa...      1\n",
       "9  After a few moves, the combination of tiles in...      0"
      ]
     },
     "execution_count": 3,
     "metadata": {},
     "output_type": "execute_result"
    }
   ],
   "source": [
    "# Load PURE dataset\n",
    "pure = pd.read_csv(DATA_PATH + 'PURE_train.csv')\n",
    "tmp = pd.read_csv(DATA_PATH + 'PURE_test.csv')\n",
    "pure = pd.concat([pure, tmp], axis=0)\n",
    "tmp = pd.read_csv(DATA_PATH + 'PURE_valid.csv')\n",
    "pure = pd.concat([pure, tmp], axis=0)\n",
    "\n",
    "pure['Req/Not Req'] = pure['Req/Not Req'].apply(lambda x: 1 if x == 'Req' else 0)\n",
    "\n",
    "pure['text'] = pure['Requirement']\n",
    "pure['label'] = pure['Req/Not Req']\n",
    "pure = pure.drop(['Unnamed: 0', 'Name of Doc', 'Requirement', 'Req/Not Req'], axis=1)\n",
    "\n",
    "pure = pure.sample(frac=1).reset_index(drop=True)\n",
    "\n",
    "print(pure['label'].value_counts())\n",
    "pure.head(10)"
   ]
  },
  {
   "cell_type": "markdown",
   "metadata": {},
   "source": [
    "## Dronology Dataset"
   ]
  },
  {
   "cell_type": "code",
   "execution_count": 4,
   "metadata": {},
   "outputs": [
    {
     "name": "stdout",
     "output_type": "stream",
     "text": [
      "label\n",
      "0    280\n",
      "1     99\n",
      "Name: count, dtype: int64\n"
     ]
    },
    {
     "data": {
      "text/html": [
       "<div>\n",
       "<style scoped>\n",
       "    .dataframe tbody tr th:only-of-type {\n",
       "        vertical-align: middle;\n",
       "    }\n",
       "\n",
       "    .dataframe tbody tr th {\n",
       "        vertical-align: top;\n",
       "    }\n",
       "\n",
       "    .dataframe thead th {\n",
       "        text-align: right;\n",
       "    }\n",
       "</style>\n",
       "<table border=\"1\" class=\"dataframe\">\n",
       "  <thead>\n",
       "    <tr style=\"text-align: right;\">\n",
       "      <th></th>\n",
       "      <th>text</th>\n",
       "      <th>label</th>\n",
       "    </tr>\n",
       "  </thead>\n",
       "  <tbody>\n",
       "    <tr>\n",
       "      <th>0</th>\n",
       "      <td>The MapComponent shall support different types...</td>\n",
       "      <td>1</td>\n",
       "    </tr>\n",
       "    <tr>\n",
       "      <th>1</th>\n",
       "      <td>The MissionPlanner shall execute flight plans ...</td>\n",
       "      <td>1</td>\n",
       "    </tr>\n",
       "    <tr>\n",
       "      <th>2</th>\n",
       "      <td>The GCS shall transmit the UAV s properties to...</td>\n",
       "      <td>1</td>\n",
       "    </tr>\n",
       "    <tr>\n",
       "      <th>3</th>\n",
       "      <td>The GCS shall transmit the UAV s current locat...</td>\n",
       "      <td>1</td>\n",
       "    </tr>\n",
       "    <tr>\n",
       "      <th>4</th>\n",
       "      <td>The GCS shall report newly connected UAVs to t...</td>\n",
       "      <td>1</td>\n",
       "    </tr>\n",
       "    <tr>\n",
       "      <th>5</th>\n",
       "      <td>When the GCS receives a UAV command from the G...</td>\n",
       "      <td>1</td>\n",
       "    </tr>\n",
       "    <tr>\n",
       "      <th>6</th>\n",
       "      <td>When the connection to the GCS from the GCSMid...</td>\n",
       "      <td>1</td>\n",
       "    </tr>\n",
       "    <tr>\n",
       "      <th>7</th>\n",
       "      <td>The GCSMiddleware shall forward commands sent ...</td>\n",
       "      <td>1</td>\n",
       "    </tr>\n",
       "    <tr>\n",
       "      <th>8</th>\n",
       "      <td>The GCSMiddleware shall handle state messages ...</td>\n",
       "      <td>1</td>\n",
       "    </tr>\n",
       "    <tr>\n",
       "      <th>9</th>\n",
       "      <td>The GCSMiddleware shall follow a predefined se...</td>\n",
       "      <td>1</td>\n",
       "    </tr>\n",
       "  </tbody>\n",
       "</table>\n",
       "</div>"
      ],
      "text/plain": [
       "                                                text  label\n",
       "0  The MapComponent shall support different types...      1\n",
       "1  The MissionPlanner shall execute flight plans ...      1\n",
       "2  The GCS shall transmit the UAV s properties to...      1\n",
       "3  The GCS shall transmit the UAV s current locat...      1\n",
       "4  The GCS shall report newly connected UAVs to t...      1\n",
       "5  When the GCS receives a UAV command from the G...      1\n",
       "6  When the connection to the GCS from the GCSMid...      1\n",
       "7  The GCSMiddleware shall forward commands sent ...      1\n",
       "8  The GCSMiddleware shall handle state messages ...      1\n",
       "9  The GCSMiddleware shall follow a predefined se...      1"
      ]
     },
     "execution_count": 4,
     "metadata": {},
     "output_type": "execute_result"
    }
   ],
   "source": [
    "# Load dronology dataset\n",
    "dronology = pd.read_csv(DATA_PATH + 'dronology_five_folds/fold_1/train_fold_1.csv')\n",
    "tmp = pd.read_csv(DATA_PATH + 'dronology_five_folds/fold_1/test_fold_1.csv')\n",
    "dronology = pd.concat([dronology, tmp], axis=0)\n",
    "\n",
    "for i in range(2, 6):\n",
    "    tmp = pd.read_csv(DATA_PATH + 'dronology_five_folds/fold_{}/train_fold_{}.csv'.format(i, i))\n",
    "    dronology = pd.concat([dronology, tmp], axis=0)\n",
    "    tmp = pd.read_csv(DATA_PATH + 'dronology_five_folds/fold_{}/test_fold_{}.csv'.format(i, i))\n",
    "    dronology = pd.concat([dronology, tmp], axis=0)\n",
    "\n",
    "dronology['text'] = dronology['STR.REQ']\n",
    "dronology['label'] = dronology['class']\n",
    "dronology = dronology.drop(['issueid', 'STR.REQ', 'class'], axis=1)\n",
    "\n",
    "dronology = dronology.drop_duplicates(subset=[\"text\"], keep=\"first\")\n",
    "\n",
    "print(dronology['label'].value_counts())\n",
    "dronology.head(10)"
   ]
  },
  {
   "cell_type": "code",
   "execution_count": 5,
   "metadata": {},
   "outputs": [
    {
     "name": "stdout",
     "output_type": "stream",
     "text": [
      "8124\n"
     ]
    },
    {
     "data": {
      "text/plain": [
       "label\n",
       "1    4244\n",
       "0    3880\n",
       "Name: count, dtype: int64"
      ]
     },
     "execution_count": 5,
     "metadata": {},
     "output_type": "execute_result"
    }
   ],
   "source": [
    "# Merge two datasets\n",
    "data = pd.concat([pure, dronology], axis=0)\n",
    "print(len(data))\n",
    "data['label'].value_counts()"
   ]
  },
  {
   "cell_type": "code",
   "execution_count": 6,
   "metadata": {},
   "outputs": [
    {
     "data": {
      "text/plain": [
       "133.74766125061547"
      ]
     },
     "execution_count": 6,
     "metadata": {},
     "output_type": "execute_result"
    }
   ],
   "source": [
    "data['text_length'] = data['text'].apply(lambda x: len(x))\n",
    "np.mean(data['text_length'])"
   ]
  },
  {
   "cell_type": "code",
   "execution_count": 7,
   "metadata": {},
   "outputs": [
    {
     "data": {
      "text/plain": [
       "DatasetDict({\n",
       "    train: Dataset({\n",
       "        features: ['text', 'label', 'text_length', '__index_level_0__'],\n",
       "        num_rows: 5686\n",
       "    })\n",
       "    test: Dataset({\n",
       "        features: ['text', 'label', 'text_length', '__index_level_0__'],\n",
       "        num_rows: 2438\n",
       "    })\n",
       "})"
      ]
     },
     "execution_count": 7,
     "metadata": {},
     "output_type": "execute_result"
    }
   ],
   "source": [
    "data = Dataset.from_pandas(data)\n",
    "data = data.train_test_split(test_size=0.3)\n",
    "data"
   ]
  },
  {
   "cell_type": "code",
   "execution_count": 9,
   "metadata": {},
   "outputs": [
    {
     "data": {
      "text/plain": [
       "{'text': 'NPAC SMS shall provide post‑collection audit analysis tools that can produce detailed reports on data items relating to system intrusions.',\n",
       " 'label': 1,\n",
       " 'text_length': 138,\n",
       " '__index_level_0__': 6850}"
      ]
     },
     "execution_count": 9,
     "metadata": {},
     "output_type": "execute_result"
    }
   ],
   "source": [
    "data['train'][190]"
   ]
  },
  {
   "cell_type": "code",
   "execution_count": null,
   "metadata": {},
   "outputs": [],
   "source": []
  }
 ],
 "metadata": {
  "kernelspec": {
   "display_name": "5137",
   "language": "python",
   "name": "python3"
  },
  "language_info": {
   "codemirror_mode": {
    "name": "ipython",
    "version": 3
   },
   "file_extension": ".py",
   "mimetype": "text/x-python",
   "name": "python",
   "nbconvert_exporter": "python",
   "pygments_lexer": "ipython3",
   "version": "3.10.13"
  }
 },
 "nbformat": 4,
 "nbformat_minor": 2
}
